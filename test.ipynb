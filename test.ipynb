{
 "cells": [
  {
   "cell_type": "markdown",
   "metadata": {},
   "source": [
    "this script is to do some test work"
   ]
  },
  {
   "cell_type": "code",
   "execution_count": 3,
   "metadata": {},
   "outputs": [],
   "source": [
    "#package version test and generate requirement.txt\n",
    "import scipy\n",
    "import statsmodels\n",
    "import numpy\n",
    "import pandas\n",
    "import seaborn\n",
    "import matplotlib\n",
    "import sklearn\n",
    "\n",
    "# get package version and save to requirement.txt\n",
    "with open('requirement.txt', 'w') as f:\n",
    "    f.write(f\"scipy=={scipy.__version__}\\n\")\n",
    "    f.write(f\"statsmodels=={statsmodels.__version__}\\n\")\n",
    "    f.write(f\"numpy=={numpy.__version__}\\n\")\n",
    "    f.write(f\"pandas=={pandas.__version__}\\n\")\n",
    "    f.write(f\"seaborn=={seaborn.__version__}\\n\")\n",
    "    f.write(f\"matplotlib=={matplotlib.__version__}\\n\")\n",
    "    f.write(f\"sklearn=={sklearn.__version__}\\n\")\n",
    "\n",
    "\n"
   ]
  },
  {
   "cell_type": "code",
   "execution_count": null,
   "metadata": {},
   "outputs": [],
   "source": []
  },
  {
   "cell_type": "code",
   "execution_count": null,
   "metadata": {},
   "outputs": [],
   "source": []
  },
  {
   "cell_type": "code",
   "execution_count": null,
   "metadata": {},
   "outputs": [],
   "source": []
  },
  {
   "cell_type": "code",
   "execution_count": null,
   "metadata": {},
   "outputs": [],
   "source": []
  },
  {
   "cell_type": "code",
   "execution_count": null,
   "metadata": {},
   "outputs": [],
   "source": []
  },
  {
   "cell_type": "code",
   "execution_count": null,
   "metadata": {},
   "outputs": [],
   "source": []
  }
 ],
 "metadata": {
  "kernelspec": {
   "display_name": "Python 3",
   "language": "python",
   "name": "python3"
  },
  "language_info": {
   "codemirror_mode": {
    "name": "ipython",
    "version": 3
   },
   "file_extension": ".py",
   "mimetype": "text/x-python",
   "name": "python",
   "nbconvert_exporter": "python",
   "pygments_lexer": "ipython3",
   "version": "3.12.4"
  }
 },
 "nbformat": 4,
 "nbformat_minor": 2
}
