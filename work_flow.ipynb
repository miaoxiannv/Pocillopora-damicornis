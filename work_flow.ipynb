{
 "cells": [
  {
   "cell_type": "markdown",
   "metadata": {},
   "source": [
    "\n",
    "\n",
    "\n",
    "\n",
    "\n",
    "\n",
    "\n"
   ]
  },
  {
   "cell_type": "markdown",
   "metadata": {},
   "source": [
    "在cell sp 那篇文中发现了三个文件：\n",
    "Spis_coral_broad_cell_type_gene_FC.tsv\n",
    "Spis_proteins.fasta\n",
    "Stylophora_adult_genes.tsv\n",
    "\n",
    "第一个文件是细胞类型与基因的差异表达分析，第二个文件是蛋白序列，第三个是10x的基因名文件，首先需要验证这些文件中的基因名是否一致？\n"
   ]
  },
  {
   "cell_type": "code",
   "execution_count": 1,
   "metadata": {},
   "outputs": [],
   "source": [
    "import os"
   ]
  },
  {
   "cell_type": "code",
   "execution_count": 14,
   "metadata": {},
   "outputs": [],
   "source": [
    "import pandas as pd\n",
    "\n",
    "\n",
    "gene_FC_file = r\"V:\\DATA\\nextcloud\\pd论文\\data\\cell_type_annotation\\Spis_coral_broad_cell_type_gene_FC.tsv\"\n",
    "protein_file = r\"V:\\DATA\\nextcloud\\pd论文\\data\\cell_type_annotation\\Spis_proteins.fasta\"\n",
    "gene_name_file = r\"V:\\DATA\\nextcloud\\pd论文\\data\\cell_type_annotation\\Stylophora_adult_genes.tsv\"\n",
    "gene_name_from_rds = r\"V:\\DATA\\nextcloud\\pd论文\\data\\cell_type_annotation\\feature_names_in_rds.tsv\"\n"
   ]
  },
  {
   "cell_type": "code",
   "execution_count": 15,
   "metadata": {},
   "outputs": [
    {
     "data": {
      "text/html": [
       "<div>\n",
       "<style scoped>\n",
       "    .dataframe tbody tr th:only-of-type {\n",
       "        vertical-align: middle;\n",
       "    }\n",
       "\n",
       "    .dataframe tbody tr th {\n",
       "        vertical-align: top;\n",
       "    }\n",
       "\n",
       "    .dataframe thead th {\n",
       "        text-align: right;\n",
       "    }\n",
       "</style>\n",
       "<table border=\"1\" class=\"dataframe\">\n",
       "  <thead>\n",
       "    <tr style=\"text-align: right;\">\n",
       "      <th></th>\n",
       "      <th>alga-hosting_cells</th>\n",
       "      <th>calicoblast</th>\n",
       "      <th>cnidocyte</th>\n",
       "      <th>digestive_filaments</th>\n",
       "      <th>epidermis</th>\n",
       "      <th>gastrodermis</th>\n",
       "      <th>germline</th>\n",
       "      <th>gland</th>\n",
       "      <th>immune</th>\n",
       "      <th>mitotic_host_cells</th>\n",
       "      <th>neuron</th>\n",
       "      <th>unknown</th>\n",
       "    </tr>\n",
       "  </thead>\n",
       "  <tbody>\n",
       "    <tr>\n",
       "      <th>Spis10006_1</th>\n",
       "      <td>0.963050</td>\n",
       "      <td>0.982178</td>\n",
       "      <td>0.955529</td>\n",
       "      <td>1.036586</td>\n",
       "      <td>0.988772</td>\n",
       "      <td>0.975739</td>\n",
       "      <td>0.955529</td>\n",
       "      <td>1.047172</td>\n",
       "      <td>1.011228</td>\n",
       "      <td>1.014259</td>\n",
       "      <td>1.134320</td>\n",
       "      <td>1.028540</td>\n",
       "    </tr>\n",
       "    <tr>\n",
       "      <th>Spis10012_1</th>\n",
       "      <td>0.978667</td>\n",
       "      <td>1.013570</td>\n",
       "      <td>0.963496</td>\n",
       "      <td>1.139224</td>\n",
       "      <td>0.994036</td>\n",
       "      <td>1.005964</td>\n",
       "      <td>0.963496</td>\n",
       "      <td>1.035720</td>\n",
       "      <td>1.019660</td>\n",
       "      <td>0.993095</td>\n",
       "      <td>1.021508</td>\n",
       "      <td>0.963496</td>\n",
       "    </tr>\n",
       "    <tr>\n",
       "      <th>Spis10030_1</th>\n",
       "      <td>1.003920</td>\n",
       "      <td>1.375750</td>\n",
       "      <td>0.996080</td>\n",
       "      <td>1.017180</td>\n",
       "      <td>0.996080</td>\n",
       "      <td>1.004408</td>\n",
       "      <td>0.996080</td>\n",
       "      <td>0.996080</td>\n",
       "      <td>0.996080</td>\n",
       "      <td>1.075226</td>\n",
       "      <td>1.007393</td>\n",
       "      <td>0.996080</td>\n",
       "    </tr>\n",
       "    <tr>\n",
       "      <th>Spis10031_1</th>\n",
       "      <td>0.995837</td>\n",
       "      <td>1.150895</td>\n",
       "      <td>0.995837</td>\n",
       "      <td>1.016931</td>\n",
       "      <td>1.014690</td>\n",
       "      <td>1.004163</td>\n",
       "      <td>0.995837</td>\n",
       "      <td>0.995837</td>\n",
       "      <td>0.995837</td>\n",
       "      <td>1.026429</td>\n",
       "      <td>1.016117</td>\n",
       "      <td>0.995837</td>\n",
       "    </tr>\n",
       "    <tr>\n",
       "      <th>Spis10033_1</th>\n",
       "      <td>0.989548</td>\n",
       "      <td>1.017145</td>\n",
       "      <td>0.989548</td>\n",
       "      <td>1.010509</td>\n",
       "      <td>1.010452</td>\n",
       "      <td>1.033869</td>\n",
       "      <td>0.989548</td>\n",
       "      <td>1.230028</td>\n",
       "      <td>0.989548</td>\n",
       "      <td>0.989548</td>\n",
       "      <td>1.309482</td>\n",
       "      <td>0.989548</td>\n",
       "    </tr>\n",
       "  </tbody>\n",
       "</table>\n",
       "</div>"
      ],
      "text/plain": [
       "             alga-hosting_cells  calicoblast  cnidocyte  digestive_filaments  \\\n",
       "Spis10006_1            0.963050     0.982178   0.955529             1.036586   \n",
       "Spis10012_1            0.978667     1.013570   0.963496             1.139224   \n",
       "Spis10030_1            1.003920     1.375750   0.996080             1.017180   \n",
       "Spis10031_1            0.995837     1.150895   0.995837             1.016931   \n",
       "Spis10033_1            0.989548     1.017145   0.989548             1.010509   \n",
       "\n",
       "             epidermis  gastrodermis  germline     gland    immune  \\\n",
       "Spis10006_1   0.988772      0.975739  0.955529  1.047172  1.011228   \n",
       "Spis10012_1   0.994036      1.005964  0.963496  1.035720  1.019660   \n",
       "Spis10030_1   0.996080      1.004408  0.996080  0.996080  0.996080   \n",
       "Spis10031_1   1.014690      1.004163  0.995837  0.995837  0.995837   \n",
       "Spis10033_1   1.010452      1.033869  0.989548  1.230028  0.989548   \n",
       "\n",
       "             mitotic_host_cells    neuron   unknown  \n",
       "Spis10006_1            1.014259  1.134320  1.028540  \n",
       "Spis10012_1            0.993095  1.021508  0.963496  \n",
       "Spis10030_1            1.075226  1.007393  0.996080  \n",
       "Spis10031_1            1.026429  1.016117  0.995837  \n",
       "Spis10033_1            0.989548  1.309482  0.989548  "
      ]
     },
     "execution_count": 15,
     "metadata": {},
     "output_type": "execute_result"
    }
   ],
   "source": [
    "# 读取gene_FC_file\n",
    "gene_FC_df = pd.read_csv(gene_FC_file, sep='\\t')\n",
    "gene_FC_df.head()"
   ]
  },
  {
   "cell_type": "code",
   "execution_count": 16,
   "metadata": {},
   "outputs": [
    {
     "data": {
      "text/plain": [
       "['Spis10006_1', 'Spis10012_1', 'Spis10030_1', 'Spis10031_1', 'Spis10033_1']"
      ]
     },
     "execution_count": 16,
     "metadata": {},
     "output_type": "execute_result"
    }
   ],
   "source": [
    "gene_FC_gene_list = gene_FC_df.index.tolist()\n",
    "gene_FC_gene_list[0:5]\n"
   ]
  },
  {
   "cell_type": "code",
   "execution_count": 17,
   "metadata": {},
   "outputs": [
    {
     "data": {
      "text/plain": [
       "['Spis_YP_002149706_1',\n",
       " 'Spis_YP_002149712_1',\n",
       " 'Spis_YP_002149713_1',\n",
       " 'Spis_YP_002149709_1',\n",
       " 'Spis_YP_002149708_1']"
      ]
     },
     "execution_count": 17,
     "metadata": {},
     "output_type": "execute_result"
    }
   ],
   "source": [
    "# 读取protein_file, 该文件为fasta格式，需要读取其中的基因名，去掉>\n",
    "with open(protein_file, 'r') as file:\n",
    "    protein_name_list = []\n",
    "    for line in file:\n",
    "        if line.startswith('>'):\n",
    "            protein_name = line.strip('>').strip()\n",
    "            protein_name_list.append(protein_name)\n",
    "\n",
    "protein_name_list[0:5]"
   ]
  },
  {
   "cell_type": "code",
   "execution_count": 18,
   "metadata": {},
   "outputs": [
    {
     "data": {
      "text/plain": [
       "['Spis10006_1', 'Spis10012_1', 'Spis10030_1', 'Spis10031_1', 'Spis10033_1']"
      ]
     },
     "execution_count": 18,
     "metadata": {},
     "output_type": "execute_result"
    }
   ],
   "source": [
    "# 读取gene_name_file\n",
    "gene_name_df = pd.read_csv(gene_name_file, header=None, index_col=False, sep='\\t')\n",
    "gene_name_list = gene_name_df[0].tolist()\n",
    "gene_name_list[0:5]\n",
    "\n"
   ]
  },
  {
   "cell_type": "code",
   "execution_count": 22,
   "metadata": {},
   "outputs": [
    {
     "data": {
      "text/plain": [
       "['Spis10006_1', 'Spis10012_1', 'Spis10030_1', 'Spis10031_1', 'Spis10033_1']"
      ]
     },
     "execution_count": 22,
     "metadata": {},
     "output_type": "execute_result"
    }
   ],
   "source": [
    "# 读取gene_name_from_rds\n",
    "gene_name_from_rds_df = pd.read_csv(gene_name_from_rds, header=None, index_col=False, sep='\\t')\n",
    "gene_name_from_rds_list = gene_name_from_rds_df[0].tolist()\n",
    "#替换连字符-为下划线_\n",
    "gene_name_from_rds_list = [name.replace('-', '_') for name in gene_name_from_rds_list]\n",
    "gene_name_from_rds_list[0:5]\n",
    "\n"
   ]
  },
  {
   "cell_type": "code",
   "execution_count": 23,
   "metadata": {},
   "outputs": [],
   "source": [
    "#分别比较三个列表中，两两之间的基因名字的交集，并集\n",
    "def get_name(variable):\n",
    "    for name, value in globals().items():\n",
    "        if value is variable:\n",
    "            return name\n",
    "    return None\n",
    "\n",
    "\n",
    "def test_set_intersection_union(list1, list2):\n",
    "    print(get_name(list1), \"and\", get_name(list2))\n",
    "    print(\"list1 length: \", len(list1))\n",
    "    print(\"list2 length: \", len(list2))\n",
    "    intersection = set(list1) & set(list2)\n",
    "    union = set(list1) | set(list2)\n",
    "    print(\"number of intersection: \", len(intersection))\n",
    "    print(\"number of union: \", len(union))\n",
    "    print(\"*\"*50)\n",
    "    #return intersection, union\n"
   ]
  },
  {
   "cell_type": "code",
   "execution_count": 24,
   "metadata": {},
   "outputs": [
    {
     "name": "stdout",
     "output_type": "stream",
     "text": [
      "gene_FC_gene_list and protein_name_list\n",
      "list1 length:  31123\n",
      "list2 length:  29419\n",
      "number of intersection:  24054\n",
      "number of union:  36488\n",
      "**************************************************\n",
      "gene_FC_gene_list and gene_name_list\n",
      "list1 length:  31123\n",
      "list2 length:  37380\n",
      "number of intersection:  31123\n",
      "number of union:  37380\n",
      "**************************************************\n",
      "gene_FC_gene_list and gene_name_from_rds_list\n",
      "list1 length:  31123\n",
      "list2 length:  34197\n",
      "number of intersection:  31123\n",
      "number of union:  34197\n",
      "**************************************************\n",
      "protein_name_list and gene_name_list\n",
      "list1 length:  29419\n",
      "list2 length:  37380\n",
      "number of intersection:  29398\n",
      "number of union:  37401\n",
      "**************************************************\n",
      "protein_name_list and gene_name_from_rds_list\n",
      "list1 length:  29419\n",
      "list2 length:  34197\n",
      "number of intersection:  26578\n",
      "number of union:  37038\n",
      "**************************************************\n",
      "gene_name_list and gene_name_from_rds_list\n",
      "list1 length:  37380\n",
      "list2 length:  34197\n",
      "number of intersection:  34197\n",
      "number of union:  37380\n",
      "**************************************************\n"
     ]
    }
   ],
   "source": [
    "# 比较基因名列表之间的交集和并集，6个组合\n",
    "list_name_list = [gene_FC_gene_list, protein_name_list, gene_name_list, gene_name_from_rds_list]\n",
    "for i in range(len(list_name_list)):\n",
    "    for j in range(i+1, len(list_name_list)):\n",
    "        test_set_intersection_union(list_name_list[i], list_name_list[j])\n"
   ]
  },
  {
   "cell_type": "markdown",
   "metadata": {},
   "source": [
    "经过验证，证明蛋白的名字和rds中的名字是一致的。"
   ]
  },
  {
   "cell_type": "markdown",
   "metadata": {},
   "source": [
    "验证混合后的样本的基因名与rds中的基因名是否一致？\n"
   ]
  },
  {
   "cell_type": "code",
   "execution_count": null,
   "metadata": {},
   "outputs": [],
   "source": []
  },
  {
   "cell_type": "code",
   "execution_count": null,
   "metadata": {},
   "outputs": [],
   "source": []
  },
  {
   "cell_type": "code",
   "execution_count": null,
   "metadata": {},
   "outputs": [],
   "source": []
  },
  {
   "cell_type": "code",
   "execution_count": null,
   "metadata": {},
   "outputs": [],
   "source": []
  },
  {
   "cell_type": "code",
   "execution_count": null,
   "metadata": {},
   "outputs": [],
   "source": []
  }
 ],
 "metadata": {
  "kernelspec": {
   "display_name": "Python 3",
   "language": "python",
   "name": "python3"
  },
  "language_info": {
   "codemirror_mode": {
    "name": "ipython",
    "version": 3
   },
   "file_extension": ".py",
   "mimetype": "text/x-python",
   "name": "python",
   "nbconvert_exporter": "python",
   "pygments_lexer": "ipython3",
   "version": "3.12.7"
  }
 },
 "nbformat": 4,
 "nbformat_minor": 2
}
